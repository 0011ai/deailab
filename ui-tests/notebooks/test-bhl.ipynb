{
 "cells": [
  {
   "cell_type": "code",
   "execution_count": null,
   "id": "f9fa0253-6320-45c8-bb69-a050b2ec8d79",
   "metadata": {},
   "outputs": [],
   "source": [
    "print('!@#')"
   ]
  }
 ],
 "metadata": {
  "kernelspec": {
   "display_name": "Python 3 (ipykernel)",
   "language": "python",
   "name": "python3"
  },
  "language_info": {
   "codemirror_mode": {
    "name": "ipython",
    "version": 3
   },
   "file_extension": ".py",
   "mimetype": "text/x-python",
   "name": "python",
   "nbconvert_exporter": "python",
   "pygments_lexer": "ipython3",
   "version": "3.10.11"
  }
 },
 "nbformat": 4,
 "nbformat_minor": 5
}
